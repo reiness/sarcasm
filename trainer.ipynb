{
 "cells": [
  {
   "cell_type": "code",
   "execution_count": 1,
   "metadata": {},
   "outputs": [],
   "source": [
    "import json\n",
    "import tensorflow as tf\n",
    "import numpy as np\n",
    "import matplotlib.pyplot as plt\n",
    "\n",
    "\n",
    "from tensorflow.keras.preprocessing.text import Tokenizer\n",
    "from tensorflow.keras.preprocessing.sequence import pad_sequences"
   ]
  },
  {
   "cell_type": "code",
   "execution_count": 2,
   "metadata": {},
   "outputs": [],
   "source": [
    "vocab_size = 10000\n",
    "embedding_dim = 16\n",
    "max_length = 100\n",
    "trunc_type='post'\n",
    "padding_type='post'\n",
    "oov_tok = \"<OOV>\"\n",
    "training_size = 20000\n"
   ]
  },
  {
   "cell_type": "code",
   "execution_count": 3,
   "metadata": {},
   "outputs": [],
   "source": [
    "with open(\"sarcasm_v2_processed.json\",'r') as f:\n",
    "    datastore = json.load(f)\n",
    "\n",
    "sentences = []\n",
    "labels = []\n",
    "\n",
    "for item in datastore:\n",
    "    sentences.append(item['headline'])\n",
    "    labels.append(item['is_sarcastic'])\n"
   ]
  },
  {
   "cell_type": "code",
   "execution_count": 4,
   "metadata": {},
   "outputs": [],
   "source": [
    "training_sentences = sentences[0:training_size]\n",
    "testing_sentences = sentences[training_size:]\n",
    "training_labels = labels[0:training_size]\n",
    "testing_labels = labels[training_size:]"
   ]
  },
  {
   "cell_type": "code",
   "execution_count": 5,
   "metadata": {},
   "outputs": [],
   "source": [
    "tokenizer = Tokenizer(num_words=vocab_size, oov_token=oov_tok)\n",
    "tokenizer.fit_on_texts(training_sentences)\n",
    "\n",
    "word_index = tokenizer.word_index\n",
    "\n",
    "training_sequences = tokenizer.texts_to_sequences(training_sentences)\n",
    "training_padded = pad_sequences(training_sequences, maxlen=max_length, padding=padding_type, truncating=trunc_type)\n",
    "\n",
    "testing_sequences = tokenizer.texts_to_sequences(testing_sentences)\n",
    "testing_padded = pad_sequences(testing_sequences, maxlen=max_length, padding=padding_type, truncating=trunc_type)"
   ]
  },
  {
   "cell_type": "code",
   "execution_count": 6,
   "metadata": {},
   "outputs": [],
   "source": [
    "training_padded = np.array(training_padded)\n",
    "training_labels = np.array(training_labels)\n",
    "testing_padded = np.array(testing_padded)\n",
    "testing_labels = np.array(testing_labels)"
   ]
  },
  {
   "cell_type": "code",
   "execution_count": 7,
   "metadata": {},
   "outputs": [],
   "source": [
    "model = tf.keras.Sequential([\n",
    "    tf.keras.layers.Embedding(vocab_size, embedding_dim, input_length=max_length),\n",
    "    tf.keras.layers.GlobalAveragePooling1D(),\n",
    "    tf.keras.layers.Dense(24, activation='relu'),\n",
    "    tf.keras.layers.Dense(1, activation='sigmoid')\n",
    "])\n",
    "model.compile(loss='binary_crossentropy',optimizer='adam',metrics=['accuracy'])"
   ]
  },
  {
   "cell_type": "code",
   "execution_count": 8,
   "metadata": {},
   "outputs": [
    {
     "name": "stdout",
     "output_type": "stream",
     "text": [
      "Model: \"sequential\"\n",
      "_________________________________________________________________\n",
      " Layer (type)                Output Shape              Param #   \n",
      "=================================================================\n",
      " embedding (Embedding)       (None, 100, 16)           160000    \n",
      "                                                                 \n",
      " global_average_pooling1d (G  (None, 16)               0         \n",
      " lobalAveragePooling1D)                                          \n",
      "                                                                 \n",
      " dense (Dense)               (None, 24)                408       \n",
      "                                                                 \n",
      " dense_1 (Dense)             (None, 1)                 25        \n",
      "                                                                 \n",
      "=================================================================\n",
      "Total params: 160,433\n",
      "Trainable params: 160,433\n",
      "Non-trainable params: 0\n",
      "_________________________________________________________________\n"
     ]
    }
   ],
   "source": [
    "model.summary()"
   ]
  },
  {
   "cell_type": "code",
   "execution_count": 9,
   "metadata": {},
   "outputs": [
    {
     "name": "stdout",
     "output_type": "stream",
     "text": [
      "Epoch 1/30\n",
      "625/625 - 9s - loss: 0.6613 - accuracy: 0.6051 - val_loss: 0.5529 - val_accuracy: 0.7241 - 9s/epoch - 14ms/step\n",
      "Epoch 2/30\n",
      "625/625 - 4s - loss: 0.4171 - accuracy: 0.8347 - val_loss: 0.3750 - val_accuracy: 0.8387 - 4s/epoch - 7ms/step\n",
      "Epoch 3/30\n",
      "625/625 - 6s - loss: 0.3095 - accuracy: 0.8772 - val_loss: 0.3479 - val_accuracy: 0.8478 - 6s/epoch - 9ms/step\n",
      "Epoch 4/30\n",
      "625/625 - 5s - loss: 0.2584 - accuracy: 0.8988 - val_loss: 0.3402 - val_accuracy: 0.8515 - 5s/epoch - 8ms/step\n",
      "Epoch 5/30\n",
      "625/625 - 5s - loss: 0.2237 - accuracy: 0.9135 - val_loss: 0.3333 - val_accuracy: 0.8573 - 5s/epoch - 8ms/step\n",
      "Epoch 6/30\n",
      "625/625 - 6s - loss: 0.1984 - accuracy: 0.9255 - val_loss: 0.3703 - val_accuracy: 0.8409 - 6s/epoch - 9ms/step\n",
      "Epoch 7/30\n",
      "625/625 - 6s - loss: 0.1768 - accuracy: 0.9349 - val_loss: 0.3555 - val_accuracy: 0.8491 - 6s/epoch - 9ms/step\n",
      "Epoch 8/30\n",
      "625/625 - 6s - loss: 0.1593 - accuracy: 0.9414 - val_loss: 0.3658 - val_accuracy: 0.8501 - 6s/epoch - 9ms/step\n",
      "Epoch 9/30\n",
      "625/625 - 6s - loss: 0.1437 - accuracy: 0.9484 - val_loss: 0.3822 - val_accuracy: 0.8474 - 6s/epoch - 9ms/step\n",
      "Epoch 10/30\n",
      "625/625 - 5s - loss: 0.1303 - accuracy: 0.9538 - val_loss: 0.4019 - val_accuracy: 0.8433 - 5s/epoch - 8ms/step\n",
      "Epoch 11/30\n",
      "625/625 - 5s - loss: 0.1214 - accuracy: 0.9573 - val_loss: 0.4271 - val_accuracy: 0.8387 - 5s/epoch - 8ms/step\n",
      "Epoch 12/30\n",
      "625/625 - 5s - loss: 0.1123 - accuracy: 0.9617 - val_loss: 0.4448 - val_accuracy: 0.8370 - 5s/epoch - 9ms/step\n",
      "Epoch 13/30\n",
      "625/625 - 5s - loss: 0.1023 - accuracy: 0.9652 - val_loss: 0.4763 - val_accuracy: 0.8336 - 5s/epoch - 8ms/step\n",
      "Epoch 14/30\n",
      "625/625 - 6s - loss: 0.0943 - accuracy: 0.9688 - val_loss: 0.4989 - val_accuracy: 0.8303 - 6s/epoch - 10ms/step\n",
      "Epoch 15/30\n",
      "625/625 - 5s - loss: 0.0862 - accuracy: 0.9718 - val_loss: 0.5275 - val_accuracy: 0.8283 - 5s/epoch - 8ms/step\n",
      "Epoch 16/30\n",
      "625/625 - 6s - loss: 0.0792 - accuracy: 0.9747 - val_loss: 0.5524 - val_accuracy: 0.8285 - 6s/epoch - 10ms/step\n",
      "Epoch 17/30\n",
      "625/625 - 5s - loss: 0.0735 - accuracy: 0.9768 - val_loss: 0.5851 - val_accuracy: 0.8250 - 5s/epoch - 8ms/step\n",
      "Epoch 18/30\n",
      "625/625 - 6s - loss: 0.0669 - accuracy: 0.9782 - val_loss: 0.6379 - val_accuracy: 0.8232 - 6s/epoch - 9ms/step\n",
      "Epoch 19/30\n",
      "625/625 - 5s - loss: 0.0639 - accuracy: 0.9800 - val_loss: 0.6680 - val_accuracy: 0.8214 - 5s/epoch - 8ms/step\n",
      "Epoch 20/30\n",
      "625/625 - 6s - loss: 0.0593 - accuracy: 0.9809 - val_loss: 0.6900 - val_accuracy: 0.8180 - 6s/epoch - 10ms/step\n",
      "Epoch 21/30\n",
      "625/625 - 5s - loss: 0.0534 - accuracy: 0.9844 - val_loss: 0.7167 - val_accuracy: 0.8182 - 5s/epoch - 8ms/step\n",
      "Epoch 22/30\n",
      "625/625 - 6s - loss: 0.0491 - accuracy: 0.9862 - val_loss: 0.7587 - val_accuracy: 0.8162 - 6s/epoch - 9ms/step\n",
      "Epoch 23/30\n",
      "625/625 - 5s - loss: 0.0464 - accuracy: 0.9863 - val_loss: 0.8027 - val_accuracy: 0.8151 - 5s/epoch - 8ms/step\n",
      "Epoch 24/30\n",
      "625/625 - 5s - loss: 0.0434 - accuracy: 0.9863 - val_loss: 0.8418 - val_accuracy: 0.8132 - 5s/epoch - 9ms/step\n",
      "Epoch 25/30\n",
      "625/625 - 5s - loss: 0.0396 - accuracy: 0.9888 - val_loss: 0.8656 - val_accuracy: 0.8119 - 5s/epoch - 8ms/step\n",
      "Epoch 26/30\n",
      "625/625 - 6s - loss: 0.0366 - accuracy: 0.9904 - val_loss: 0.9054 - val_accuracy: 0.8093 - 6s/epoch - 9ms/step\n",
      "Epoch 27/30\n",
      "625/625 - 6s - loss: 0.0347 - accuracy: 0.9901 - val_loss: 1.0153 - val_accuracy: 0.8075 - 6s/epoch - 10ms/step\n",
      "Epoch 28/30\n",
      "625/625 - 6s - loss: 0.0316 - accuracy: 0.9919 - val_loss: 0.9956 - val_accuracy: 0.8089 - 6s/epoch - 9ms/step\n",
      "Epoch 29/30\n",
      "625/625 - 6s - loss: 0.0302 - accuracy: 0.9919 - val_loss: 1.0386 - val_accuracy: 0.8060 - 6s/epoch - 9ms/step\n",
      "Epoch 30/30\n",
      "625/625 - 5s - loss: 0.0266 - accuracy: 0.9936 - val_loss: 1.0916 - val_accuracy: 0.8055 - 5s/epoch - 8ms/step\n"
     ]
    }
   ],
   "source": [
    "num_epochs = 30\n",
    "history = model.fit(training_padded, training_labels, epochs=num_epochs, validation_data=(testing_padded, testing_labels), verbose=2)"
   ]
  },
  {
   "cell_type": "code",
   "execution_count": 10,
   "metadata": {},
   "outputs": [
    {
     "data": {
      "image/png": "[encoded data removed]",
      "text/plain": [
       "<Figure size 432x288 with 1 Axes>"
      ]
     },
     "metadata": {
      "needs_background": "light"
     },
     "output_type": "display_data"
    },
    {
     "data": {
      "image/png": "[encoded data removed]",
      "text/plain": [
       "<Figure size 432x288 with 1 Axes>"
      ]
     },
     "metadata": {
      "needs_background": "light"
     },
     "output_type": "display_data"
    }
   ],
   "source": [
    "def plot_graphs(history, string):\n",
    "  plt.plot(history.history[string])\n",
    "  plt.plot(history.history['val_'+string])\n",
    "  plt.xlabel(\"Epochs\")\n",
    "  plt.ylabel(string)\n",
    "  plt.legend([string, 'val_'+string])\n",
    "  plt.show()\n",
    "  \n",
    "plot_graphs(history, \"accuracy\")\n",
    "plot_graphs(history, \"loss\")"
   ]
  },
  {
   "cell_type": "code",
   "execution_count": 24,
   "metadata": {},
   "outputs": [
    {
     "name": "stdout",
     "output_type": "stream",
     "text": [
      "1/1 [==============================] - 0s 91ms/step\n",
      "[1 1 1 0 0 0 0 0 0 0 0 0 0 0 0 0 0 0 0 0 0 0 0 0 0 0 0 0 0 0 0 0 0 0 0 0 0\n",
      " 0 0 0 0 0 0 0 0 0 0 0 0 0 0 0 0 0 0 0 0 0 0 0 0 0 0 0 0 0 0 0 0 0 0 0 0 0\n",
      " 0 0 0 0 0 0 0 0 0 0 0 0 0 0 0 0 0 0 0 0 0 0 0 0 0 0]\n",
      "[[1 1 1 0 0 0 0 0 0 0 0 0 0 0 0 0 0 0 0 0 0 0 0 0 0 0 0 0 0 0 0 0 0 0 0 0\n",
      "  0 0 0 0 0 0 0 0 0 0 0 0 0 0 0 0 0 0 0 0 0 0 0 0 0 0 0 0 0 0 0 0 0 0 0 0\n",
      "  0 0 0 0 0 0 0 0 0 0 0 0 0 0 0 0 0 0 0 0 0 0 0 0 0 0 0 0]]\n"
     ]
    }
   ],
   "source": [
    "sentence = [\"Besok hari Senin\"]\n",
    "sequences = tokenizer.texts_to_sequences(sentence)\n",
    "padded = pad_sequences(sequences, maxlen=max_length, padding=padding_type, truncating=trunc_type)\n",
    "hasil = model.predict(padded).tolist()\n",
    "print(padded[0])\n",
    "print(padded)"
   ]
  },
  {
   "cell_type": "code",
   "execution_count": 25,
   "metadata": {},
   "outputs": [
    {
     "name": "stdout",
     "output_type": "stream",
     "text": [
      "35.31 %\n"
     ]
    }
   ],
   "source": [
    "chance = hasil[0][0]\n",
    "persenan = round(chance*100,2)\n",
    "print(persenan,\"%\")"
   ]
  },
  {
   "cell_type": "code",
   "execution_count": 28,
   "metadata": {},
   "outputs": [
    {
     "name": "stderr",
     "output_type": "stream",
     "text": [
      "WARNING:absl:Found untraced functions such as _update_step_xla while saving (showing 1 of 1). These functions will not be directly callable after loading.\n"
     ]
    },
    {
     "name": "stdout",
     "output_type": "stream",
     "text": [
      "INFO:tensorflow:Assets written to: sarcasm-model5\\assets\n"
     ]
    },
    {
     "name": "stderr",
     "output_type": "stream",
     "text": [
      "INFO:tensorflow:Assets written to: sarcasm-model5\\assets\n"
     ]
    }
   ],
   "source": [
    "model.save('sarcasm-model5')"
   ]
  },
  {
   "cell_type": "markdown",
   "metadata": {},
   "source": [
    "# PICKLE"
   ]
  },
  {
   "cell_type": "code",
   "execution_count": 13,
   "metadata": {},
   "outputs": [],
   "source": [
    "import pickle"
   ]
  },
  {
   "cell_type": "code",
   "execution_count": 14,
   "metadata": {},
   "outputs": [
    {
     "name": "stdout",
     "output_type": "stream",
     "text": [
      "Keras weights file (<HDF5 file \"variables.h5\" (mode r+)>) saving:\n",
      "...layers\\dense\n",
      "......vars\n",
      ".........0\n",
      ".........1\n",
      "...layers\\dense_1\n",
      "......vars\n",
      ".........0\n",
      ".........1\n",
      "...layers\\embedding\n",
      "......vars\n",
      ".........0\n",
      "...layers\\global_average_pooling1d\n",
      "......vars\n",
      "...metrics\\mean\n",
      "......vars\n",
      ".........0\n",
      ".........1\n",
      "...metrics\\mean_metric_wrapper\n",
      "......vars\n",
      ".........0\n",
      ".........1\n",
      "...optimizer\n",
      "......vars\n",
      ".........0\n",
      ".........1\n",
      ".........10\n",
      ".........2\n",
      ".........3\n",
      ".........4\n",
      ".........5\n",
      ".........6\n",
      ".........7\n",
      ".........8\n",
      ".........9\n",
      "...vars\n",
      "Keras model archive saving:\n",
      "File Name                                             Modified             Size\n",
      "config.json                                    2022-11-29 21:04:16         1978\n",
      "metadata.json                                  2022-11-29 21:04:16           64\n",
      "variables.h5                                   2022-11-29 21:04:16      1948548\n"
     ]
    }
   ],
   "source": [
    "with open('sarcasm_pickle','wb') as r:\n",
    "    pickle.dump(model,r)"
   ]
  },
  {
   "cell_type": "code",
   "execution_count": null,
   "metadata": {},
   "outputs": [],
   "source": []
  }
 ],
 "metadata": {
  "kernelspec": {
   "display_name": "Python 3.10.0 64-bit",
   "language": "python",
   "name": "python3"
  },
  "language_info": {
   "codemirror_mode": {
    "name": "ipython",
    "version": 3
   },
   "file_extension": ".py",
   "mimetype": "text/x-python",
   "name": "python",
   "nbconvert_exporter": "python",
   "pygments_lexer": "ipython3",
   "version": "3.10.0"
  },
  "orig_nbformat": 4,
  "vscode": {
   "interpreter": {
    "hash": "afb734500600fd355917ca529030176ea0ca205570884b88f2f6f7d791fd3fbe"
   }
  }
 },
 "nbformat": 4,
 "nbformat_minor": 2
}
